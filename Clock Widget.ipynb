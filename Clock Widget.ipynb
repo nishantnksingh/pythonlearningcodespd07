{
 "cells": [
  {
   "cell_type": "code",
   "execution_count": 61,
   "metadata": {},
   "outputs": [],
   "source": [
    "import tkinter as tk\n",
    "from tkinter import *\n",
    "from time import strftime\n",
    "from PIL import Image, ImageTk\n",
    "\n",
    "window_main=tk.Tk()\n",
    "window_main.title(\"Clock Widget by Lyriclious\")\n",
    "window_main.geometry('640x480')\n",
    "\n",
    "#Image\n",
    "img=ImageTk.PhotoImage(Image.open(\"C:\\\\Users\\\\nisha\\\\OneDrive\\\\Desktop\\\\Trainings\\\\PD07\\\\homebackground.jpg\"))\n",
    "l=Label(image=img)\n",
    "l.pack()\n",
    "\n",
    "def time():\n",
    "    string=strftime('%H:%M:%S %p')\n",
    "    label.config(text=string)\n",
    "    label.after(1000,time)\n",
    "    \n",
    "label=Label(window_main,font=(\"ds-digital\",14,\"bold\"), background=\"black\",height=2, borderwidth=1, relief=\"solid\", foreground=\"white\")\n",
    "label.place(x=270,y=110)\n",
    "time()\n",
    "\n",
    "window_main.mainloop()"
   ]
  },
  {
   "cell_type": "code",
   "execution_count": null,
   "metadata": {},
   "outputs": [],
   "source": []
  },
  {
   "cell_type": "code",
   "execution_count": null,
   "metadata": {},
   "outputs": [],
   "source": []
  }
 ],
 "metadata": {
  "kernelspec": {
   "display_name": "Python 3",
   "language": "python",
   "name": "python3"
  },
  "language_info": {
   "codemirror_mode": {
    "name": "ipython",
    "version": 3
   },
   "file_extension": ".py",
   "mimetype": "text/x-python",
   "name": "python",
   "nbconvert_exporter": "python",
   "pygments_lexer": "ipython3",
   "version": "3.6.5"
  }
 },
 "nbformat": 4,
 "nbformat_minor": 2
}
